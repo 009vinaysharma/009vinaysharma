{
  "nbformat": 4,
  "nbformat_minor": 0,
  "metadata": {
    "colab": {
      "provenance": [],
      "include_colab_link": true
    },
    "kernelspec": {
      "name": "python3",
      "display_name": "Python 3"
    },
    "language_info": {
      "name": "python"
    }
  },
  "cells": [
    {
      "cell_type": "markdown",
      "metadata": {
        "id": "view-in-github",
        "colab_type": "text"
      },
      "source": [
        "<a href=\"https://colab.research.google.com/github/009vinaysharma/009vinaysharma/blob/main/Another_copy_of_Untitled.ipynb\" target=\"_parent\"><img src=\"https://colab.research.google.com/assets/colab-badge.svg\" alt=\"Open In Colab\"/></a>"
      ]
    },
    {
      "cell_type": "code",
      "source": [
        "list = [1,2,3,4,5,\"Hello\",6.2,True]\n",
        "for i in list[2:4]:\n",
        "    print(list)"
      ],
      "metadata": {
        "id": "MqPyWVsNWtnN",
        "colab": {
          "base_uri": "https://localhost:8080/"
        },
        "outputId": "f55bd440-77ae-48c4-9efb-bcea65a4153f"
      },
      "execution_count": null,
      "outputs": [
        {
          "output_type": "stream",
          "name": "stdout",
          "text": [
            "[1, 2, 3, 4, 5, 'Hello', 6.2, True]\n",
            "[1, 2, 3, 4, 5, 'Hello', 6.2, True]\n"
          ]
        }
      ]
    },
    {
      "cell_type": "code",
      "source": [],
      "metadata": {
        "id": "emQD0xsYZnPn"
      },
      "execution_count": null,
      "outputs": []
    },
    {
      "cell_type": "code",
      "source": [
        "list = [1,2,3,4,5,\"Hello\",6.2,True]\n",
        "for i in list[3:8:1]:\n",
        "    print(i)"
      ],
      "metadata": {
        "colab": {
          "base_uri": "https://localhost:8080/"
        },
        "id": "1AczDhQBX5xM",
        "outputId": "a012cbc2-c54e-46bb-c294-1f09fab7b457"
      },
      "execution_count": null,
      "outputs": [
        {
          "output_type": "stream",
          "name": "stdout",
          "text": [
            "4\n",
            "5\n",
            "Hello\n",
            "6.2\n",
            "True\n"
          ]
        }
      ]
    },
    {
      "cell_type": "code",
      "source": [
        "for i in range(10):\n",
        "  print(i)"
      ],
      "metadata": {
        "colab": {
          "base_uri": "https://localhost:8080/"
        },
        "id": "A2eIP7p4YVOj",
        "outputId": "815b1050-81dd-4ef3-f59c-c6d561e8ca80"
      },
      "execution_count": null,
      "outputs": [
        {
          "output_type": "stream",
          "name": "stdout",
          "text": [
            "0\n",
            "1\n",
            "2\n",
            "3\n",
            "4\n",
            "5\n",
            "6\n",
            "7\n",
            "8\n",
            "9\n"
          ]
        }
      ]
    },
    {
      "cell_type": "code",
      "source": [
        "for i in range(1,10):\n",
        "  print(i)"
      ],
      "metadata": {
        "colab": {
          "base_uri": "https://localhost:8080/"
        },
        "id": "aMfH3oN6YI7n",
        "outputId": "87b79360-d2a7-4801-dd3c-7b84f0af7bde"
      },
      "execution_count": null,
      "outputs": [
        {
          "output_type": "stream",
          "name": "stdout",
          "text": [
            "1\n",
            "2\n",
            "3\n",
            "4\n",
            "5\n",
            "6\n",
            "7\n",
            "8\n",
            "9\n"
          ]
        }
      ]
    },
    {
      "cell_type": "code",
      "source": [
        "for i in range(1,10,3):\n",
        "  print(i)"
      ],
      "metadata": {
        "colab": {
          "base_uri": "https://localhost:8080/"
        },
        "id": "nRjxGhZrY1c2",
        "outputId": "5287f4fa-8d9f-47a9-8d2b-895e3f8c9b12"
      },
      "execution_count": null,
      "outputs": [
        {
          "output_type": "stream",
          "name": "stdout",
          "text": [
            "1\n",
            "4\n",
            "7\n"
          ]
        }
      ]
    },
    {
      "cell_type": "code",
      "source": [
        "from typing import Tuple\n",
        "Tuple1 = [1,2,3,4,5]\n",
        "\n",
        "Tuple2 = [6,7,8,9,10]\n",
        "\n",
        "Tuple3 = Tuple1 + Tuple2\n",
        "\n",
        "print(Tuple3)"
      ],
      "metadata": {
        "colab": {
          "base_uri": "https://localhost:8080/"
        },
        "id": "bRpIxbAdZDQ9",
        "outputId": "87ff006f-83de-43f8-ca44-b6e7a003d123"
      },
      "execution_count": null,
      "outputs": [
        {
          "output_type": "stream",
          "name": "stdout",
          "text": [
            "[1, 2, 3, 4, 5, 6, 7, 8, 9, 10]\n"
          ]
        }
      ]
    },
    {
      "cell_type": "code",
      "source": [
        "Dict = {\n",
        "    \"Name\" : \"Vinay Sharma\",\n",
        "    \"Rtu Roll No.\" : \"23EACCA054\"\n",
        "\n",
        "}\n",
        "print(Dict)"
      ],
      "metadata": {
        "colab": {
          "base_uri": "https://localhost:8080/"
        },
        "id": "Mz21W6ddZ8Q8",
        "outputId": "778e29c2-ce8c-4598-895c-164e6b4e23c3"
      },
      "execution_count": null,
      "outputs": [
        {
          "output_type": "stream",
          "name": "stdout",
          "text": [
            "{'Name': 'Vinay Sharma', 'Rtu Roll No.': '23EACCA054'}\n"
          ]
        }
      ]
    },
    {
      "cell_type": "code",
      "source": [
        "try :\n",
        "    x = 1 / 0\n",
        "except ZeroDivisionError:\n",
        "    print(\"You can't divide by Zero\")"
      ],
      "metadata": {
        "colab": {
          "base_uri": "https://localhost:8080/"
        },
        "id": "8Q-9vSnwa0aE",
        "outputId": "7a78ee47-d347-4fc3-8dae-59ddc9cb07f7"
      },
      "execution_count": null,
      "outputs": [
        {
          "output_type": "stream",
          "name": "stdout",
          "text": [
            "You can't divide by Zero\n"
          ]
        }
      ]
    },
    {
      "cell_type": "code",
      "source": [
        "print(\"Hello, World!\")\n",
        "try:\n",
        "    x = 1 / 0\n",
        "    print(x)\n",
        "except Exception:\n",
        "   print(\"An error occured\")\n",
        "print(\"jwhfjrfhfhih\")"
      ],
      "metadata": {
        "colab": {
          "base_uri": "https://localhost:8080/"
        },
        "id": "07GOIrekcDtY",
        "outputId": "c01e0acb-fbf0-4ff4-e7e9-0dc11f3ee4bb"
      },
      "execution_count": null,
      "outputs": [
        {
          "output_type": "stream",
          "name": "stdout",
          "text": [
            "Hello, World!\n",
            "An error occured\n",
            "jwhfjrfhfhih\n"
          ]
        }
      ]
    },
    {
      "cell_type": "code",
      "source": [
        "x=int(input(\"enter the value of x:\"))\n",
        "try:\n",
        "    if x<2:\n",
        "        print(\"x is less than or equal to 2\")\n",
        "except x>2:\n",
        "    print(\"x is greater than 2\")"
      ],
      "metadata": {
        "colab": {
          "base_uri": "https://localhost:8080/"
        },
        "id": "u_rVt6icdHw7",
        "outputId": "2e91ae4c-246c-4165-ab3a-736b11f9bbaa"
      },
      "execution_count": null,
      "outputs": [
        {
          "output_type": "stream",
          "name": "stdout",
          "text": [
            "enter the value of x:1\n",
            "x is less than or equal to 2\n"
          ]
        }
      ]
    },
    {
      "cell_type": "code",
      "source": [
        "list = [1,2,3,4,5,6,7,8,9,10,10]\n",
        "\n",
        "Set = set(list)\n",
        "\n",
        "print(Set)"
      ],
      "metadata": {
        "colab": {
          "base_uri": "https://localhost:8080/"
        },
        "id": "daRgKRB3eWcx",
        "outputId": "c89733e9-1c61-461a-c86b-02bbbc7a27b7"
      },
      "execution_count": null,
      "outputs": [
        {
          "output_type": "stream",
          "name": "stdout",
          "text": [
            "{1, 2, 3, 4, 5, 6, 7, 8, 9, 10}\n"
          ]
        }
      ]
    },
    {
      "cell_type": "code",
      "source": [
        "list = []\n",
        "\n",
        "for i in range(10):\n",
        "  x = int(input(\"Enter a number:\"))\n",
        "  list.append(x)\n",
        "print(list)"
      ],
      "metadata": {
        "colab": {
          "base_uri": "https://localhost:8080/"
        },
        "id": "GZHR4yQxf9ST",
        "outputId": "909e3017-756c-4b3f-b5c7-bfb0d60adf5b"
      },
      "execution_count": null,
      "outputs": [
        {
          "output_type": "stream",
          "name": "stdout",
          "text": [
            "Enter a number:1\n",
            "Enter a number:2\n",
            "Enter a number:3\n",
            "Enter a number:4\n",
            "Enter a number:5\n",
            "Enter a number:6\n",
            "Enter a number:7\n",
            "Enter a number:8\n",
            "Enter a number:9\n",
            "Enter a number:10\n",
            "[1, 2, 3, 4, 5, 6, 7, 8, 9, 10]\n"
          ]
        }
      ]
    },
    {
      "cell_type": "code",
      "source": [
        "list = []\n",
        "\n",
        "for i in range(10):\n",
        "  x = int(input(\"Enter a number:\"))\n",
        "  list.append(x)"
      ],
      "metadata": {
        "colab": {
          "base_uri": "https://localhost:8080/"
        },
        "id": "NPjlmK-rgt3V",
        "outputId": "799e3025-a9c8-4844-c3be-353d9eae408f"
      },
      "execution_count": null,
      "outputs": [
        {
          "name": "stdout",
          "output_type": "stream",
          "text": [
            "Enter a number:1\n",
            "Enter a number:2\n",
            "Enter a number:3\n",
            "Enter a number:4\n",
            "Enter a number:5\n",
            "Enter a number:6\n",
            "Enter a number:7\n",
            "Enter a number:8\n",
            "Enter a number:9\n",
            "Enter a number:10\n"
          ]
        }
      ]
    },
    {
      "cell_type": "code",
      "source": [
        "set = {1,2,3,4,5,6,7,8,10,10,10,10,9}\n",
        "\n",
        "set.add(11)\n",
        "print(set)"
      ],
      "metadata": {
        "colab": {
          "base_uri": "https://localhost:8080/"
        },
        "id": "UFYo7hgMg77C",
        "outputId": "34e9a97d-2d6d-4b5c-d6c6-24bac5771b21"
      },
      "execution_count": null,
      "outputs": [
        {
          "output_type": "stream",
          "name": "stdout",
          "text": [
            "{1, 2, 3, 4, 5, 6, 7, 8, 9, 10, 11}\n"
          ]
        }
      ]
    },
    {
      "cell_type": "code",
      "source": [
        "list = []\n",
        "for i in range(9):\n",
        "    try:\n",
        "        x = input(\"give the value in x: \")\n",
        "        list.append(x)\n",
        "    except KeyboardInterrupt:\n",
        "        print(\"Input interrupted. Proceeding with the collected data.\")\n",
        "        break\n",
        "\n",
        "SET = set(list)\n",
        "print(SET)"
      ],
      "metadata": {
        "id": "4ksrjiRBh4dS"
      },
      "execution_count": null,
      "outputs": []
    },
    {
      "cell_type": "code",
      "source": [
        "def add(a,b):\n",
        "  c = a + b\n",
        "  print(c)\n",
        "add(\"a\" , \"b\")"
      ],
      "metadata": {
        "colab": {
          "base_uri": "https://localhost:8080/"
        },
        "id": "xhRC3G1Sjubp",
        "outputId": "a8e3bc94-0713-492a-a711-715875fbd62d"
      },
      "execution_count": null,
      "outputs": [
        {
          "output_type": "stream",
          "name": "stdout",
          "text": [
            "ab\n"
          ]
        }
      ]
    },
    {
      "cell_type": "code",
      "source": [
        "def add(a,b):\n",
        "  c = a + b\n",
        "  print(c)\n",
        "add(1,2)\n",
        "add(10,20)"
      ],
      "metadata": {
        "colab": {
          "base_uri": "https://localhost:8080/"
        },
        "id": "CtRHzxuXlWCC",
        "outputId": "4ed98a14-0a06-45eb-a3c5-8903d0fc32d2"
      },
      "execution_count": null,
      "outputs": [
        {
          "output_type": "stream",
          "name": "stdout",
          "text": [
            "3\n",
            "30\n"
          ]
        }
      ]
    },
    {
      "cell_type": "code",
      "source": [
        "def add(a,b):\n",
        "  c = a + b\n",
        "  print(c)\n",
        "def sub(a,b):\n",
        "  c = a - b\n",
        "  print(c)\n",
        "def mul(a,b):\n",
        "    c = a * b\n",
        "    print(c)\n",
        "def div(a,b):\n",
        "      c = a / b\n",
        "      print(c)\n",
        "div(10,2)\n",
        "mul(10,2)\n",
        "sub(10,2)\n",
        "add(10,2)"
      ],
      "metadata": {
        "colab": {
          "base_uri": "https://localhost:8080/"
        },
        "id": "t2sYAqYTliBQ",
        "outputId": "e8ebb734-81c2-4a67-9d3f-628bf06bb44b"
      },
      "execution_count": null,
      "outputs": [
        {
          "output_type": "stream",
          "name": "stdout",
          "text": [
            "5.0\n",
            "20\n",
            "8\n",
            "12\n"
          ]
        }
      ]
    },
    {
      "cell_type": "code",
      "source": [
        "def xyz(*args):\n",
        "  print(args)\n",
        "\n",
        "xyz(1,2,3,4,5,6,7,8,9,10)"
      ],
      "metadata": {
        "colab": {
          "base_uri": "https://localhost:8080/"
        },
        "id": "DadTYhVyZ1N4",
        "outputId": "2c870c21-face-45ce-f96b-05b277d33d1e"
      },
      "execution_count": null,
      "outputs": [
        {
          "output_type": "stream",
          "name": "stdout",
          "text": [
            "(1, 2, 3, 4, 5, 6, 7, 8, 9, 10)\n"
          ]
        }
      ]
    },
    {
      "cell_type": "code",
      "source": [
        "def xyz(num , *args):\n",
        "  print(num)\n",
        "  print(\"_______\")\n",
        "  print(args)\n",
        "\n",
        "xyz(1,2,3,4,5,6,7,8,9,10)"
      ],
      "metadata": {
        "colab": {
          "base_uri": "https://localhost:8080/"
        },
        "id": "aWhy-8IzbyEw",
        "outputId": "ecc270e2-ded7-4dc0-fc06-2d1b21ac93fa"
      },
      "execution_count": null,
      "outputs": [
        {
          "output_type": "stream",
          "name": "stdout",
          "text": [
            "1\n",
            "_______\n",
            "(2, 3, 4, 5, 6, 7, 8, 9, 10)\n"
          ]
        }
      ]
    },
    {
      "cell_type": "markdown",
      "source": [],
      "metadata": {
        "id": "Md9Nrcn5cMbp"
      }
    },
    {
      "cell_type": "code",
      "source": [
        "def xyz(**kwargs):\n",
        "  print(kwargs)\n",
        "\n",
        "xyz(Name=\"Vinay Sharma\")"
      ],
      "metadata": {
        "colab": {
          "base_uri": "https://localhost:8080/"
        },
        "id": "y3KZhIJacHSX",
        "outputId": "6ae5ab99-7c3a-4e5b-ad76-ddbb2a016965"
      },
      "execution_count": null,
      "outputs": [
        {
          "output_type": "stream",
          "name": "stdout",
          "text": [
            "{'Name': 'Vinay Sharma'}\n"
          ]
        }
      ]
    },
    {
      "cell_type": "code",
      "source": [
        "sum = 10\n",
        "def xyz(a,b):\n",
        "  sum = a + b\n",
        "  return sum\n",
        "abc = xyz(1,2)\n",
        "print(abc)\n",
        "print(sum)\n"
      ],
      "metadata": {
        "colab": {
          "base_uri": "https://localhost:8080/"
        },
        "id": "Wxobgui1c2kZ",
        "outputId": "6f58a006-fedf-4ec6-b51c-4ef615841da0"
      },
      "execution_count": null,
      "outputs": [
        {
          "output_type": "stream",
          "name": "stdout",
          "text": [
            "3\n",
            "10\n"
          ]
        }
      ]
    },
    {
      "cell_type": "code",
      "source": [
        "def xyz(a,b):\n",
        "  sum = a + b\n",
        "  return sum\n",
        "abc = xyz(1,2)\n",
        "print(abc)\n",
        "print(sum)\n"
      ],
      "metadata": {
        "colab": {
          "base_uri": "https://localhost:8080/"
        },
        "id": "-R96BwFseNk_",
        "outputId": "adc331ac-c34f-42f4-917b-81f13145666b"
      },
      "execution_count": null,
      "outputs": [
        {
          "output_type": "stream",
          "name": "stdout",
          "text": [
            "3\n",
            "10\n"
          ]
        }
      ]
    },
    {
      "cell_type": "code",
      "source": [
        "def add(n):\n",
        "  if n == 1:\n",
        "    return 1\n",
        "  return n + add(n-1)\n",
        "\n",
        "print(add(10))"
      ],
      "metadata": {
        "colab": {
          "base_uri": "https://localhost:8080/"
        },
        "id": "Jqkfr_ZseWkN",
        "outputId": "3de0ed5e-1106-4443-d4fd-9a59552a4f7e"
      },
      "execution_count": null,
      "outputs": [
        {
          "output_type": "stream",
          "name": "stdout",
          "text": [
            "55\n"
          ]
        }
      ]
    },
    {
      "cell_type": "code",
      "source": [
        "def factorial(n):\n",
        "  if n == 1:\n",
        "    return 1\n",
        "    return (n) + factorial(n-1)\n",
        "\n",
        "print(factorial(10))"
      ],
      "metadata": {
        "colab": {
          "base_uri": "https://localhost:8080/"
        },
        "id": "wz0oa2VUhQOG",
        "outputId": "3fca9b72-8b0a-483d-b4b6-50a8be98702d"
      },
      "execution_count": null,
      "outputs": [
        {
          "output_type": "stream",
          "name": "stdout",
          "text": [
            "None\n"
          ]
        }
      ]
    },
    {
      "cell_type": "code",
      "source": [
        "def fb(n):\n",
        "  if n <= 0:\n",
        "   return \"Positive integer please\"\n",
        "  elif n == 1:\n",
        "    return 0\n",
        "  elif n == 2:\n",
        "      return 1\n",
        "      return fb(n-1) + fb(n-2)\n",
        "xyz = fb(10)\n",
        "print(xyz)"
      ],
      "metadata": {
        "colab": {
          "base_uri": "https://localhost:8080/"
        },
        "id": "VKHWxPZIi68p",
        "outputId": "bd6e3aff-3a76-477a-e490-cf264cc2286c"
      },
      "execution_count": null,
      "outputs": [
        {
          "output_type": "stream",
          "name": "stdout",
          "text": [
            "None\n"
          ]
        }
      ]
    },
    {
      "cell_type": "code",
      "source": [
        "def fabonacci(n):\n",
        "  if n <= 0:\n",
        "    return \"Positive integer please\"\n",
        "  elif n == 1:\n",
        "      return 0\n",
        "  elif n == 2:\n",
        "     return 1\n",
        "\n",
        "  return fabonacci(n-1) + fabonacci(n-2)\n",
        "for i in range(1,11):\n",
        "     print(fabonacci(i), end=\"\")"
      ],
      "metadata": {
        "colab": {
          "base_uri": "https://localhost:8080/"
        },
        "id": "eE-_KFTfkMzw",
        "outputId": "2e22a872-4b06-42e7-a60d-0ec543b7de42"
      },
      "execution_count": null,
      "outputs": [
        {
          "output_type": "stream",
          "name": "stdout",
          "text": [
            "0112358132134"
          ]
        }
      ]
    },
    {
      "cell_type": "code",
      "source": [
        "add = lambda a,b: a + b\n",
        "print(add(1,2))"
      ],
      "metadata": {
        "colab": {
          "base_uri": "https://localhost:8080/"
        },
        "id": "-BuqbiOXl7Xg",
        "outputId": "7e7012c8-ea91-4ea9-e14a-00585a832f8e"
      },
      "execution_count": null,
      "outputs": [
        {
          "output_type": "stream",
          "name": "stdout",
          "text": [
            "3\n"
          ]
        }
      ]
    },
    {
      "cell_type": "code",
      "source": [
        "add = lambda a,b: a if a > b else b\n",
        "print(add(1,2))"
      ],
      "metadata": {
        "colab": {
          "base_uri": "https://localhost:8080/"
        },
        "id": "kxA4QgNKm4e5",
        "outputId": "1941d933-19f9-4105-948e-cafcdb470b50"
      },
      "execution_count": null,
      "outputs": [
        {
          "output_type": "stream",
          "name": "stdout",
          "text": [
            "2\n"
          ]
        }
      ]
    },
    {
      "cell_type": "code",
      "source": [
        "dd = lambda a,b: a if a > b else b\n",
        "print(add(44,22))\n"
      ],
      "metadata": {
        "colab": {
          "base_uri": "https://localhost:8080/"
        },
        "id": "jFI0sj2NnZLh",
        "outputId": "112dba70-feaf-439f-b953-59e8ba19be31"
      },
      "execution_count": null,
      "outputs": [
        {
          "output_type": "stream",
          "name": "stdout",
          "text": [
            "44\n"
          ]
        }
      ]
    },
    {
      "cell_type": "code",
      "source": [
        "def abc(function):\n",
        "  def wrapper():\n",
        "    function()\n",
        "  return wrapper()\n",
        "\n",
        "@abc\n",
        "def xyz():\n",
        "    print(\"Vinay Sharma\")\n",
        "\n"
      ],
      "metadata": {
        "colab": {
          "base_uri": "https://localhost:8080/"
        },
        "id": "AW1Nw6w9oCfo",
        "outputId": "d23be49a-e4a8-4fa9-c4ae-3673144b7a8d"
      },
      "execution_count": null,
      "outputs": [
        {
          "output_type": "stream",
          "name": "stdout",
          "text": [
            "Vinay Sharma\n"
          ]
        }
      ]
    },
    {
      "cell_type": "code",
      "source": [
        "import time\n",
        "\n",
        "print(time.time())"
      ],
      "metadata": {
        "colab": {
          "base_uri": "https://localhost:8080/"
        },
        "id": "-F9QJLBmpXS6",
        "outputId": "f604912f-c600-4f39-bc13-9fa414ec4d32"
      },
      "execution_count": null,
      "outputs": [
        {
          "output_type": "stream",
          "name": "stdout",
          "text": [
            "1727343091.4621067\n"
          ]
        }
      ]
    },
    {
      "cell_type": "code",
      "source": [
        "import time\n",
        "\n",
        "def timemeasure(function):\n",
        "  def wrapper(*args,**kwargs):\n",
        "    start = time.time()\n",
        "    result = function(*args, **kwargs)\n",
        "    end = time.time()\n",
        "    print(end - start)\n",
        "    return result\n",
        "  return wrapper\n",
        "\n",
        "@timemeasure\n",
        "def pause():\n",
        "  time.sleep(2)\n",
        "print(\"pause function ended\")\n",
        "\n",
        "@timemeasure\n",
        "def quick():\n",
        "  time.sleep(2)\n",
        "print(\"quick function ended\")\n",
        "\n",
        "pause()\n",
        "quick()\n",
        "\n",
        "\n",
        "\n"
      ],
      "metadata": {
        "colab": {
          "base_uri": "https://localhost:8080/"
        },
        "id": "xmusaJQjrDZ0",
        "outputId": "dea7e8c6-8357-45fb-c47b-c005740c9a28"
      },
      "execution_count": 29,
      "outputs": [
        {
          "output_type": "stream",
          "name": "stdout",
          "text": [
            "pause function ended\n",
            "quick function ended\n",
            "2.001436233520508\n",
            "2.002089738845825\n"
          ]
        }
      ]
    },
    {
      "cell_type": "code",
      "source": [
        "def timemeasure(function):\n",
        "  def wrapper(*args,**kwargs):\n",
        "    import time  # Import time inside wrapper\n",
        "    start = time.time()\n",
        "    result = function(*args,**kwargs)\n",
        "    end = time.time()\n",
        "    print(end - start)\n",
        "    return result\n",
        "  return wrapper\n",
        "\n",
        "@timemeasure\n",
        "def fabonacci(n):\n",
        "  if n <= 0:\n",
        "    return \"Positive integer please\"\n",
        "  elif n == 1:\n",
        "    return 0\n",
        "  elif n == 2:\n",
        "    return 1\n",
        "  else:\n",
        "    return fabonacci(n-1) + fabonacci(n-2)\n",
        "\n",
        "for i in range(1,11):\n",
        "  print(fabonacci(i), end=\"\")"
      ],
      "metadata": {
        "colab": {
          "base_uri": "https://localhost:8080/"
        },
        "id": "ZCd3IbLitJ-h",
        "outputId": "7a4ca1ff-3a9b-4f59-8445-ce62b9c0b686"
      },
      "execution_count": 28,
      "outputs": [
        {
          "output_type": "stream",
          "name": "stdout",
          "text": [
            "1.1920928955078125e-06\n",
            "01.1920928955078125e-06\n",
            "11.1920928955078125e-06\n",
            "4.76837158203125e-07\n",
            "5.14984130859375e-05\n",
            "14.76837158203125e-07\n",
            "4.76837158203125e-07\n",
            "5.3882598876953125e-05\n",
            "7.152557373046875e-07\n",
            "0.00010633468627929688\n",
            "24.76837158203125e-07\n",
            "4.76837158203125e-07\n",
            "5.340576171875e-05\n",
            "7.152557373046875e-07\n",
            "0.00010728836059570312\n",
            "4.76837158203125e-07\n",
            "7.152557373046875e-07\n",
            "5.245208740234375e-05\n",
            "0.0002110004425048828\n",
            "39.5367431640625e-07\n",
            "1.1920928955078125e-06\n",
            "8.606910705566406e-05\n",
            "7.152557373046875e-07\n",
            "0.0001239776611328125\n",
            "7.152557373046875e-07\n",
            "4.76837158203125e-07\n",
            "3.552436828613281e-05\n",
            "0.00019407272338867188\n",
            "4.76837158203125e-07\n",
            "4.76837158203125e-07\n",
            "3.552436828613281e-05\n",
            "4.76837158203125e-07\n",
            "7.009506225585938e-05\n",
            "0.00032711029052734375\n",
            "57.152557373046875e-07\n",
            "4.76837158203125e-07\n",
            "4.1484832763671875e-05\n",
            "4.76837158203125e-07\n",
            "0.00017023086547851562\n",
            "7.152557373046875e-07\n",
            "4.76837158203125e-07\n",
            "3.4332275390625e-05\n",
            "0.00024271011352539062\n",
            "2.384185791015625e-07\n",
            "1.6689300537109375e-06\n",
            "0.001737356185913086\n",
            "7.152557373046875e-07\n",
            "0.0017795562744140625\n",
            "0.0020644664764404297\n",
            "4.76837158203125e-07\n",
            "7.152557373046875e-07\n",
            "4.100799560546875e-05\n",
            "4.76837158203125e-07\n",
            "7.224082946777344e-05\n",
            "7.152557373046875e-07\n",
            "2.384185791015625e-07\n",
            "2.1219253540039062e-05\n",
            "0.00011515617370605469\n",
            "0.0022134780883789062\n",
            "84.76837158203125e-07\n",
            "2.384185791015625e-07\n",
            "2.2411346435546875e-05\n",
            "4.76837158203125e-07\n",
            "4.3392181396484375e-05\n",
            "2.384185791015625e-07\n",
            "2.384185791015625e-07\n",
            "2.1219253540039062e-05\n",
            "8.511543273925781e-05\n",
            "2.384185791015625e-07\n",
            "2.384185791015625e-07\n",
            "2.09808349609375e-05\n",
            "2.384185791015625e-07\n",
            "4.1484832763671875e-05\n",
            "0.0001468658447265625\n",
            "2.384185791015625e-07\n",
            "2.384185791015625e-07\n",
            "2.1457672119140625e-05\n",
            "2.384185791015625e-07\n",
            "4.220008850097656e-05\n",
            "2.384185791015625e-07\n",
            "2.384185791015625e-07\n",
            "2.1219253540039062e-05\n",
            "8.463859558105469e-05\n",
            "0.00025081634521484375\n",
            "2.384185791015625e-07\n",
            "4.76837158203125e-07\n",
            "2.1219253540039062e-05\n",
            "4.76837158203125e-07\n",
            "6.127357482910156e-05\n",
            "9.5367431640625e-07\n",
            "9.5367431640625e-07\n",
            "0.00012040138244628906\n",
            "0.016265392303466797\n",
            "4.76837158203125e-07\n",
            "1.6689300537109375e-06\n",
            "0.014814615249633789\n",
            "1.430511474609375e-06\n",
            "0.014896631240844727\n",
            "0.03122854232788086\n",
            "0.03152132034301758\n",
            "139.5367431640625e-07\n",
            "4.76837158203125e-07\n",
            "7.104873657226562e-05\n",
            "7.152557373046875e-07\n",
            "0.00013828277587890625\n",
            "4.76837158203125e-07\n",
            "4.76837158203125e-07\n",
            "6.818771362304688e-05\n",
            "0.00027251243591308594\n",
            "4.76837158203125e-07\n",
            "7.152557373046875e-07\n",
            "6.651878356933594e-05\n",
            "7.152557373046875e-07\n",
            "0.00013184547424316406\n",
            "0.0004680156707763672\n",
            "7.152557373046875e-07\n",
            "4.76837158203125e-07\n",
            "7.081031799316406e-05\n",
            "4.76837158203125e-07\n",
            "0.0001366138458251953\n",
            "4.76837158203125e-07\n",
            "4.76837158203125e-07\n",
            "8.845329284667969e-05\n",
            "0.00028014183044433594\n",
            "0.0011489391326904297\n",
            "7.152557373046875e-07\n",
            "4.76837158203125e-07\n",
            "4.792213439941406e-05\n",
            "4.76837158203125e-07\n",
            "9.059906005859375e-05\n",
            "4.76837158203125e-07\n",
            "2.384185791015625e-07\n",
            "4.3392181396484375e-05\n",
            "0.00017547607421875\n",
            "4.76837158203125e-07\n",
            "2.384185791015625e-07\n",
            "4.38690185546875e-05\n",
            "1.1920928955078125e-06\n",
            "0.0006799697875976562\n",
            "0.01801156997680664\n",
            "0.01942896842956543\n",
            "7.152557373046875e-07\n",
            "4.76837158203125e-07\n",
            "6.818771362304688e-05\n",
            "7.152557373046875e-07\n",
            "0.0001246929168701172\n",
            "7.152557373046875e-07\n",
            "7.152557373046875e-07\n",
            "5.340576171875e-05\n",
            "0.0002288818359375\n",
            "4.76837158203125e-07\n",
            "4.76837158203125e-07\n",
            "5.459785461425781e-05\n",
            "4.76837158203125e-07\n",
            "0.00011801719665527344\n",
            "0.0004241466522216797\n",
            "4.76837158203125e-07\n",
            "4.76837158203125e-07\n",
            "5.364418029785156e-05\n",
            "7.152557373046875e-07\n",
            "0.00010561943054199219\n",
            "7.152557373046875e-07\n",
            "4.76837158203125e-07\n",
            "0.008322715759277344\n",
            "0.008586883544921875\n",
            "0.00906825065612793\n",
            "0.028561830520629883\n",
            "217.152557373046875e-07\n",
            "7.152557373046875e-07\n",
            "6.341934204101562e-05\n",
            "7.152557373046875e-07\n",
            "0.0001354217529296875\n",
            "7.152557373046875e-07\n",
            "4.76837158203125e-07\n",
            "5.412101745605469e-05\n",
            "0.0002422332763671875\n",
            "4.76837158203125e-07\n",
            "7.152557373046875e-07\n",
            "6.175041198730469e-05\n",
            "7.152557373046875e-07\n",
            "0.00011563301086425781\n",
            "0.0004086494445800781\n",
            "4.76837158203125e-07\n",
            "4.76837158203125e-07\n",
            "5.888938903808594e-05\n",
            "4.76837158203125e-07\n",
            "0.00010991096496582031\n",
            "7.152557373046875e-07\n",
            "4.76837158203125e-07\n",
            "5.316734313964844e-05\n",
            "0.00021576881408691406\n",
            "0.0006754398345947266\n",
            "4.76837158203125e-07\n",
            "7.152557373046875e-07\n",
            "5.1975250244140625e-05\n",
            "4.76837158203125e-07\n",
            "0.00010418891906738281\n",
            "4.76837158203125e-07\n",
            "2.384185791015625e-07\n",
            "5.2928924560546875e-05\n",
            "0.00020694732666015625\n",
            "7.152557373046875e-07\n",
            "2.384185791015625e-07\n",
            "5.221366882324219e-05\n",
            "4.76837158203125e-07\n",
            "0.00010442733764648438\n",
            "0.0003612041473388672\n",
            "0.0010864734649658203\n",
            "7.152557373046875e-07\n",
            "4.76837158203125e-07\n",
            "0.00010251998901367188\n",
            "4.76837158203125e-07\n",
            "0.00015234947204589844\n",
            "4.76837158203125e-07\n",
            "4.76837158203125e-07\n",
            "5.364418029785156e-05\n",
            "0.0002579689025878906\n",
            "4.76837158203125e-07\n",
            "4.76837158203125e-07\n",
            "5.269050598144531e-05\n",
            "4.76837158203125e-07\n",
            "0.00011086463928222656\n",
            "0.00041794776916503906\n",
            "4.76837158203125e-07\n",
            "7.152557373046875e-07\n",
            "5.2928924560546875e-05\n",
            "4.76837158203125e-07\n",
            "0.00010633468627929688\n",
            "4.76837158203125e-07\n",
            "4.76837158203125e-07\n",
            "5.1975250244140625e-05\n",
            "0.00020956993103027344\n",
            "0.0006783008575439453\n",
            "0.0018219947814941406\n",
            "4.76837158203125e-07\n",
            "4.76837158203125e-07\n",
            "5.221366882324219e-05\n",
            "4.76837158203125e-07\n",
            "0.00010347366333007812\n",
            "4.76837158203125e-07\n",
            "4.76837158203125e-07\n",
            "5.221366882324219e-05\n",
            "0.00020575523376464844\n",
            "4.76837158203125e-07\n",
            "4.76837158203125e-07\n",
            "6.389617919921875e-05\n",
            "4.76837158203125e-07\n",
            "0.00011587142944335938\n",
            "0.0003714561462402344\n",
            "7.152557373046875e-07\n",
            "4.76837158203125e-07\n",
            "5.340576171875e-05\n",
            "7.152557373046875e-07\n",
            "0.00010538101196289062\n",
            "4.76837158203125e-07\n",
            "4.76837158203125e-07\n",
            "5.2928924560546875e-05\n",
            "0.00020813941955566406\n",
            "0.0006344318389892578\n",
            "4.76837158203125e-07\n",
            "4.76837158203125e-07\n",
            "5.340576171875e-05\n",
            "7.152557373046875e-07\n",
            "0.00010418891906738281\n",
            "7.152557373046875e-07\n",
            "4.76837158203125e-07\n",
            "5.2928924560546875e-05\n",
            "0.00020694732666015625\n",
            "4.76837158203125e-07\n",
            "4.76837158203125e-07\n",
            "0.00013494491577148438\n",
            "4.76837158203125e-07\n",
            "0.00019884109497070312\n",
            "0.0004665851593017578\n",
            "0.0011501312255859375\n",
            "0.0030260086059570312\n",
            "34"
          ]
        }
      ]
    },
    {
      "cell_type": "code",
      "source": [
        "import time\n",
        "\n",
        "def timemeasure(function):\n",
        "  def wrapper(*args,**kwargs):\n",
        "    start = time.time()\n",
        "    result = function(*args,**kwargs)\n",
        "    end = time.time()\n",
        "    print(end - start)\n",
        "    return result\n",
        "  return wrapper\n",
        "\n",
        "@timemeasure\n",
        "def sum(n):\n",
        "  if n <= 1:\n",
        "    return 1\n",
        "  return n + sum(n-1)\n",
        "\n",
        "print(sum(10))"
      ],
      "metadata": {
        "colab": {
          "base_uri": "https://localhost:8080/"
        },
        "id": "NfdtZngHuZd1",
        "outputId": "8622a3e6-2b37-4b51-e4d8-7fd2a10d36fc"
      },
      "execution_count": null,
      "outputs": [
        {
          "output_type": "stream",
          "name": "stdout",
          "text": [
            "4.76837158203125e-07\n",
            "0.0007572174072265625\n",
            "0.0007839202880859375\n",
            "0.0008018016815185547\n",
            "0.0008246898651123047\n",
            "0.0008480548858642578\n",
            "0.0008745193481445312\n",
            "0.0009045600891113281\n",
            "0.0009310245513916016\n",
            "0.0009586811065673828\n",
            "55\n"
          ]
        }
      ]
    },
    {
      "cell_type": "code",
      "source": [
        "YXZ = 8168153846\n",
        "\n",
        "print(len(str(YXZ)))"
      ],
      "metadata": {
        "id": "KElWsGxpjwP0",
        "colab": {
          "base_uri": "https://localhost:8080/"
        },
        "outputId": "8710462b-00ed-4220-96f3-95eb387f80a0"
      },
      "execution_count": null,
      "outputs": [
        {
          "output_type": "stream",
          "name": "stdout",
          "text": [
            "10\n"
          ]
        }
      ]
    },
    {
      "cell_type": "code",
      "source": [
        "list = [1,2,3,4,5,6,7,8,9,10,11,12,13,14,15,16]\n",
        "\n",
        "print(sum(list))"
      ],
      "metadata": {
        "id": "S9z3UlRdrW7d"
      },
      "execution_count": null,
      "outputs": []
    },
    {
      "cell_type": "code",
      "source": [],
      "metadata": {
        "id": "1P0qhpqRufTJ"
      },
      "execution_count": null,
      "outputs": []
    },
    {
      "cell_type": "code",
      "source": [
        "int = -100\n",
        "print(abs(int))"
      ],
      "metadata": {
        "id": "yiWNJKHHuK7C",
        "colab": {
          "base_uri": "https://localhost:8080/"
        },
        "outputId": "5c387b7f-cb14-4bb2-80ec-b0c6462573b6"
      },
      "execution_count": null,
      "outputs": [
        {
          "output_type": "stream",
          "name": "stdout",
          "text": [
            "100\n"
          ]
        }
      ]
    },
    {
      "cell_type": "code",
      "source": [
        "int = 3 + 5\n",
        "print(abs(int))"
      ],
      "metadata": {
        "id": "N-AZVRaQujho",
        "colab": {
          "base_uri": "https://localhost:8080/"
        },
        "outputId": "19f7e3f2-c7a6-48cc-afbd-0a2e4fb47f1d"
      },
      "execution_count": null,
      "outputs": [
        {
          "output_type": "stream",
          "name": "stdout",
          "text": [
            "8\n"
          ]
        }
      ]
    },
    {
      "cell_type": "code",
      "source": [
        "int = 3 + 5j\n",
        "print(abs(int))"
      ],
      "metadata": {
        "colab": {
          "base_uri": "https://localhost:8080/"
        },
        "id": "6fNKJHSRu-AD",
        "outputId": "a0c2a0d6-fdd4-498a-8dd0-3cb8dcf040d7"
      },
      "execution_count": null,
      "outputs": [
        {
          "output_type": "stream",
          "name": "stdout",
          "text": [
            "5.830951894845301\n"
          ]
        }
      ]
    },
    {
      "cell_type": "code",
      "source": [
        "PI = 3.14159265359\n",
        "\n",
        "print(round(PI,2))\n",
        "print(round(PI,3))"
      ],
      "metadata": {
        "colab": {
          "base_uri": "https://localhost:8080/"
        },
        "id": "uyTnolOHvC8S",
        "outputId": "8e05a3fd-feaf-40f2-9f40-64444e0d2889"
      },
      "execution_count": null,
      "outputs": [
        {
          "output_type": "stream",
          "name": "stdout",
          "text": [
            "3.14\n",
            "3.142\n"
          ]
        }
      ]
    },
    {
      "cell_type": "code",
      "source": [
        "list = [1,2,3,4,5,6,7,8,9,10]\n",
        "\n",
        "for index, value in enumerate(list):\n",
        "    print(f\"{index}-{value}\")"
      ],
      "metadata": {
        "colab": {
          "base_uri": "https://localhost:8080/"
        },
        "id": "Bs0q_IY2vnTq",
        "outputId": "517900c8-2f40-4287-8afe-9b87b8f28b42"
      },
      "execution_count": null,
      "outputs": [
        {
          "output_type": "stream",
          "name": "stdout",
          "text": [
            "0-1\n",
            "1-2\n",
            "2-3\n",
            "3-4\n",
            "4-5\n",
            "5-6\n",
            "6-7\n",
            "7-8\n",
            "8-9\n",
            "9-10\n"
          ]
        }
      ]
    },
    {
      "cell_type": "code",
      "source": [
        "PI = 3.14159265359\n",
        "\n",
        "print(f\"{PI:.2f}\")\n",
        "print(f\"{PI:.3f}\")"
      ],
      "metadata": {
        "colab": {
          "base_uri": "https://localhost:8080/"
        },
        "id": "Tfmsi69qxJYz",
        "outputId": "bd8f9ff3-9b5a-4e12-c899-b000cccf66f6"
      },
      "execution_count": null,
      "outputs": [
        {
          "output_type": "stream",
          "name": "stdout",
          "text": [
            "3.14\n",
            "3.142\n"
          ]
        }
      ]
    },
    {
      "cell_type": "code",
      "source": [
        "SQUARE = lambda x,y: x * y\n",
        "\n",
        "NUM = int(input(\"please enter a number:\"))\n",
        "NUM = int(input(\"please enter another number:\"))\n",
        "\n",
        "print(f\"{NUM}\")"
      ],
      "metadata": {
        "colab": {
          "base_uri": "https://localhost:8080/"
        },
        "id": "6TPwwy3K0EZY",
        "outputId": "67838bf8-84ff-4c3d-82c8-2be52fbe893b"
      },
      "execution_count": null,
      "outputs": [
        {
          "output_type": "stream",
          "name": "stdout",
          "text": [
            "please enter a number:12\n",
            "please enter another number:16\n",
            "16\n"
          ]
        }
      ]
    },
    {
      "cell_type": "code",
      "source": [
        "class XYZ:\n",
        "  def __init__(self):\n",
        "    self.ABC = \"123\"\n",
        "\n",
        "  def get(self):\n",
        "    return self.ABC\n",
        "\n",
        "declare_class = XYZ()\n",
        "value = declare_class.get()\n",
        "print(value)\n"
      ],
      "metadata": {
        "colab": {
          "base_uri": "https://localhost:8080/"
        },
        "id": "TJhvHRDt0Ub9",
        "outputId": "20341d0a-271d-47d8-bdaa-323df13803cf"
      },
      "execution_count": null,
      "outputs": [
        {
          "output_type": "stream",
          "name": "stdout",
          "text": [
            "123\n"
          ]
        }
      ]
    },
    {
      "cell_type": "code",
      "source": [
        "class XYZ:\n",
        "  def __init__(self):\n",
        "    self._balance_ = 0\n",
        "\n",
        "  def deposite(self,amount):\n",
        "    self._balance_ += amount\n",
        "    return True\n",
        "\n",
        "  def withdraw(self,amount):\n",
        "    if 0 < amount <= self._balance_:\n",
        "      self._balance_ -= amount\n",
        "      return True\n",
        "\n",
        "    return False\n",
        "\n",
        "  def get(self):\n",
        "    return self._balance_\n",
        "\n",
        "ABC = XYZ()\n",
        "print(ABC.get())\n",
        "ABC.deposite(10000)\n",
        "print(ABC.get())\n",
        "ABC.withdraw(1000)\n",
        "print(ABC.get())\n",
        "ABC.withdraw(9000)\n",
        "print(ABC.get())"
      ],
      "metadata": {
        "colab": {
          "base_uri": "https://localhost:8080/"
        },
        "id": "wvCG6P_l4PPI",
        "outputId": "9f44c231-b2d7-4755-cb72-0d458900ea05"
      },
      "execution_count": null,
      "outputs": [
        {
          "output_type": "stream",
          "name": "stdout",
          "text": [
            "0\n",
            "10000\n",
            "9000\n",
            "0\n"
          ]
        }
      ]
    },
    {
      "cell_type": "code",
      "source": [
        "import random\n",
        "\n",
        "class GuessTheNumber:\n",
        "    def __init__(self):\n",
        "        self.low = 1\n",
        "        self.high = 1\n",
        "        self.lives = 3\n",
        "        self.number = 0\n",
        "\n",
        "    def set_range(self, high):\n",
        "        if (self.low + 1) < high:\n",
        "            self.high = high\n",
        "            self.number = random.randint(self.low, self.high)\n",
        "        else:\n",
        "            return \"Please give a bigger digit\"\n",
        "\n",
        "    def play(self):\n",
        "        guesses = 0\n",
        "        while guesses < self.lives:\n",
        "            guess = int(input(\"please enter a number: \"))\n",
        "            if guess == self.number:\n",
        "                print(\"You Won!\")\n",
        "                return\n",
        "            else:\n",
        "                guesses += 1\n",
        "                print(f\"Incorrect guess. You have {self.lives - guesses} lives left.\")\n",
        "\n",
        "        print(f\"You lost! The number was {self.number}\")\n",
        "\n",
        "\n",
        "game = GuessTheNumber()\n",
        "game.set_range(10)\n",
        "game.play()"
      ],
      "metadata": {
        "colab": {
          "base_uri": "https://localhost:8080/"
        },
        "id": "SMVOY_Tl1X4N",
        "outputId": "1509cabc-b431-4e35-fc77-8840494920f5"
      },
      "execution_count": 20,
      "outputs": [
        {
          "output_type": "stream",
          "name": "stdout",
          "text": [
            "please enter a number: 2\n",
            "Incorrect guess. You have 2 lives left.\n",
            "please enter a number: 88\n",
            "Incorrect guess. You have 1 lives left.\n",
            "please enter a number: 5\n",
            "Incorrect guess. You have 0 lives left.\n",
            "You lost! The number was 3\n"
          ]
        }
      ]
    },
    {
      "cell_type": "code",
      "source": [
        "\n",
        "import random\n",
        "\n",
        "class GuessTheNumber:\n",
        "  def __init__(self):\n",
        "    self.low = 1\n",
        "    self.high = 1\n",
        "    self.live = 3\n",
        "    self.gusses = 0\n",
        "\n",
        "\n",
        "  def set_range(self, high):\n",
        "    if (self.low + 1) < high:\n",
        "      self.high = high\n",
        "    else:\n",
        "      return \"please give a bigger digit\"\n",
        "\n",
        "  def play(self):\n",
        "    if (self.low + 1) > self.high:\n",
        "      print(\"Please restart the game\")\n",
        "      return\n",
        "\n",
        "    while self.gusses < 3:\n",
        "      self.gusses += 1\n",
        "      num = random.randint(self.low, self.high)\n",
        "      guess = int(input(\"please enter the number: \"))\n",
        "      if guess == num:\n",
        "        print(\"you won\")\n",
        "        return\n",
        "      else:\n",
        "        print(\"please try again\")\n",
        "\n",
        "# Start the game 4\n",
        "game = GuessTheNumber()\n",
        "game.set_range(10)\n",
        "game.play()"
      ],
      "metadata": {
        "colab": {
          "base_uri": "https://localhost:8080/"
        },
        "id": "YaemJoV648Qs",
        "outputId": "7e6da60d-042c-4b71-cf09-9319f0af8210"
      },
      "execution_count": 26,
      "outputs": [
        {
          "output_type": "stream",
          "name": "stdout",
          "text": [
            "please enter the number: 5\n",
            "please try again\n",
            "please enter the number: 10\n",
            "please try again\n",
            "please enter the number: 2\n",
            "you won\n"
          ]
        }
      ]
    }
  ]
}